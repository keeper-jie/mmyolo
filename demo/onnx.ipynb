{
 "cells": [
  {
   "cell_type": "code",
   "execution_count": 6,
   "metadata": {},
   "outputs": [
    {
     "name": "stdout",
     "output_type": "stream",
     "text": [
      "input_name: images\n",
      "output_name: num_dets\n",
      "output_data: [[100]]\n"
     ]
    }
   ],
   "source": [
    "import onnx\n",
    "import numpy as np\n",
    "import onnxruntime as ort\n",
    "\n",
    "# 加载ONNX模型\n",
    "onnx_model = onnx.load('../work_dirs/yolov5_s-v61_fast_1xb12-40e_cat/epoch_40.onnx')\n",
    "\n",
    "# 检查模型是否有效\n",
    "onnx.checker.check_model(onnx_model)\n",
    "\n",
    "# 创建ONNX运行时会话\n",
    "ort_session = ort.InferenceSession('../work_dirs/yolov5_s-v61_fast_1xb12-40e_cat/epoch_40.onnx')\n",
    "\n",
    "# 获取输入和输出的名称\n",
    "input_name = ort_session.get_inputs()[0].name\n",
    "print(f'input_name: {input_name}')\n",
    "output_name = ort_session.get_outputs()[0].name\n",
    "print(f'output_name: {output_name}')\n",
    "\n",
    "# 创建输入数据\n",
    "input_data = np.random.randint(0, 256, size=(1, 3, 640, 640)).astype(np.float32)\n",
    "\n",
    "# 运行推理\n",
    "output_data = ort_session.run([output_name], {input_name: input_data})\n",
    "\n",
    "# 处理输出数据\n",
    "output_data = output_data[0]\n",
    "print(f'output_data: {output_data}')\n"
   ]
  }
 ],
 "metadata": {
  "kernelspec": {
   "display_name": "base",
   "language": "python",
   "name": "python3"
  },
  "language_info": {
   "codemirror_mode": {
    "name": "ipython",
    "version": 3
   },
   "file_extension": ".py",
   "mimetype": "text/x-python",
   "name": "python",
   "nbconvert_exporter": "python",
   "pygments_lexer": "ipython3",
   "version": "3.7.10"
  }
 },
 "nbformat": 4,
 "nbformat_minor": 2
}
